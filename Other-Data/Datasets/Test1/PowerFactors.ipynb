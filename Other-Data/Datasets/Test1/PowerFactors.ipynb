{
 "cells": [
  {
   "cell_type": "markdown",
   "metadata": {},
   "source": [
    "# Power Budget Worksheet\n",
    "\n",
    "_An estimate of potential running time for this system._\n"
   ]
  },
  {
   "cell_type": "markdown",
   "metadata": {},
   "source": [
    "### Power Budget\n",
    "\n",
    "Average Runtime is approx. 57 seconds without modem, and approx. 78 seconds with modem.\n",
    "\n",
    "$$\n",
    "\\textbf{Estimated Battery Life (100\\% available)} = \n",
    "\\frac{\\text{Battery Capacity (mAh)} \\times 1.00}{\\text{Hourly Consumption (mA)}} \\times (1.0 - \\text{Battery Discharge Safety})\n",
    "$$\n",
    "\n",
    "$$\n",
    "\\textbf{Estimated Battery Life (75\\% available due to LDO dropout)} = \n",
    "\\frac{\\text{Battery Capacity (mAh)} \\times 0.75}{\\text{Hourly Consumption (mA)}} \\times (1.0 - \\text{Battery Discharge Safety})\n",
    "$$\n",
    "\n",
    "[Battery being tested: XTAR 18650, 2600mAh, 3.7V, 9.62Wh](https://www.xtar.cc/product/xtar-18650-2600mah-battery-69.html)\n",
    "\n",
    "__There is no data sheet for this specific battery.__\n",
    "\n",
    "- This table contains integrated components.\n",
    "\n",
    "* Note: I am assuming, because I am simply powering off the modem using modem.poweroff() [it is a software powerdown], that the modem will continue to leak current. I am not holding PWRKEY low or using any pin manipulation to force a hardware shutoff.\n",
    "\n",
    "| Mode | Current (mA) | Duration per Run |\n",
    "| -: | -: | -: |\n",
    "| Deep Sleep | 0.015mA (worst case) | 21600 sec |\n",
    "| Active (Measurement Mode, No GSM TX) | 100mA | 80 sec |\n",
    "| Modem Burst (Peak) | 700mA | 5 sec |\n",
    "| Modem Transmit | 250mA | 25 sec |\n",
    "| Modem Sleep | 1mA | 21600 sec | \n",
    "| Write to SD Burst | 200mA | 1 sec |\n",
    "| Write to SD | 100mA | 3 sec |\n",
    "\n",
    "- This table contains separate components.\n",
    "\n",
    "| Peripheral | Voltage | Current (mA) |\tActive Time (sec/day) |\n",
    "| -: | -: | -: | -: |\n",
    "| DFRobot pH Sensor | 3.3V | 4mA |\t5 sec |\n",
    "| Grove TDS Sensor | 3.3V |\t4mA\t| 5 sec |\n",
    "| DS18B20 Temp Sensor |\t3.3V |\t1.5mA |\t5 sec |\n",
    "| RTC Standby |\t3.3V | 0.11mA |\t21600 sec |\n",
    "| RTC Active | 3.3V | 0.2mA\t| 1 sec |\n",
    "| ADC PH Active| 3.3V | 0.15mA\t| 80 sec |\n",
    "| ADC TDS Active | 3.3V | 0.15mA | 80 sec |\n",
    "| ADC PH Standby| 3.3V | 0.15mA\t| 21600 sec |\n",
    "| ADC TDS Standby | 3.3V | 0.15mA| 21600 sec |\n",
    "\n",
    "\n",
    "__I have run calculations in code blocks below. Here are the results of those calculations.__\n",
    "\n",
    "```\n",
    "The total active draw over time for one run is 5.09 mAh.\n",
    "The total sleep draw over time for one cycle is 8.55 mAh.\n",
    "The total draw in a 6.02222 hour (one full active and deep sleep) cycle is 13.64 mAh (5.09 mAh + 8.55 mAh).\n",
    "The average consumption is 2.26 mA.\n",
    "\n",
    "The estimated \"best case\" battery life (accounting for 100% charge available, 20% safety margin) is,\n",
    "918.39 hours, or 38.27 days.\n",
    "The estimated \"likely case\" battery life (accounting for 75% charge available, 20% safety margin) is,\n",
    "688.79 hours, or 28.70 days.\n",
    "\n",
    "```"
   ]
  },
  {
   "cell_type": "code",
   "execution_count": 17,
   "metadata": {},
   "outputs": [
    {
     "name": "stdout",
     "output_type": "stream",
     "text": [
      "✅\n"
     ]
    }
   ],
   "source": [
    "# Saves the figures in the images/results directory\n",
    "from pathlib import Path\n",
    "import emoji\n",
    "\n",
    "IMAGES_PATH = Path() / \"images\" / \"results\"\n",
    "IMAGES_PATH.mkdir(parents=True, exist_ok=True)\n",
    "\n",
    "def save_fig(fig_id, tight_layout=True, fig_extension=\"png\", resolution=300):\n",
    "    path = IMAGES_PATH / f\"{fig_id}.{fig_extension}\"\n",
    "    if tight_layout:\n",
    "        plt.tight_layout()\n",
    "    plt.savefig(path, format=fig_extension, dpi=resolution)\n",
    "\n",
    "print(emoji.emojize(\":check_mark_button:\"))"
   ]
  },
  {
   "cell_type": "code",
   "execution_count": 18,
   "metadata": {},
   "outputs": [
    {
     "name": "stdout",
     "output_type": "stream",
     "text": [
      "These components are active for \"x\" seconds per 1 device cycle @ \"y\" mA.\n",
      " \n",
      " Active mode time: 80 seconds @ 100 mA\n",
      " Transmit mode burst time: 5 seconds @ 700 mA\n",
      " Transmit mode time: 25 seconds @ 250 mA\n",
      " Storage mode burst time: 1 seconds @ 200 mA\n",
      " Storage mode time: 3 seconds @ 100 mA\n",
      " pH sensor time: 5 seconds @ 4 mA\n",
      " TDS sensor time: 5 seconds @ 4 mA\n",
      " Temperature sensor time: 5 seconds @ 1.5 mA\n",
      " RTC active time: 1 seconds @ 0.2 mA\n",
      " ADC1 active time: 80 seconds @ 0.15 mA\n",
      " ADC2 active time: 80 seconds @ 0.15 mA\n",
      " \n",
      "The power draw for \"x\" seconds per 1 deep sleep cycle @ \"y\" mA.\n",
      " Deep sleep time: 21600 seconds (6.00 hours) @ 0.015 mA\n",
      " Modem sleep time (software power off): 21600 seconds (6.00 hours) @ 1.0 mA\n",
      " RTC standby time: 21600 seconds (6.00 hours) @ 0.11 mA\n",
      " ADC1 standby time: 21600 seconds (6.00 hours) @ 0.15 mA\n",
      " ADC2 standby time: 21600 seconds (6.00) @ 0.15 mA\n",
      "\n"
     ]
    }
   ],
   "source": [
    "# Power Budget Calculator\n",
    "# current units are in mA\n",
    "import numpy as np\n",
    "import matplotlib.pyplot as plt\n",
    "\n",
    "# define power consumption in mA\n",
    "deep_sleep = 0.015 # datasheet says 10 μA (0.010 mA), but we will assume 15 μA (0.015 mA)\n",
    "active_mode = 100 # 100 mA, ESP32 (only) measurement (or \"active\" mode), when the controller is running\n",
    "modem_mode_burst = 700 # 700 mA of additional spike when the modem powers up, 100 mA base current already account for\n",
    "modem_mode = 250 # 250 mA of additional current when the modem is transmitting, 100 mA base current already account for\n",
    "modem_sleep = 1.0 # 1.0 mA, modem standby current, additional current when the modem is active\n",
    "storage_mode_burst = 200 # 200 mA of extra current when the SD Card module powers up, 100 mA base current already account for\n",
    "storage_mode = 100 # 100 mA of extra current when the SD Card module is writing, 100 mA base current already account for\n",
    "ph_sensor = 4 # 4 mA, pH sensor, additional current when the sensor is active\n",
    "tds_sensor = 4 # 4 mA, TDS sensor, additional current when the sensor is active\n",
    "temp_sensor = 1.5 # 1.5 mA, temperature sensor, additional current when the sensor is active\n",
    "rtc_standby = 0.11 # 0.11 mA, RTC standby current, additional current when the RTC is active\n",
    "rtc_active = 0.2 # 0.2 mA, RTC active current, additional current when the RTC is active\n",
    "adc1_active = 0.15 # 0.15 mA, ADC1 active current, additional current when the ADC is active\n",
    "adc2_active = 0.15 # 0.15 mA, ADC2 active current, additional current when the ADC is active\n",
    "\n",
    "# We need to define component active times in seconds, totaled for one day\n",
    "# Overall, we are doing 4 measurements per day, 4 transmissions per day, 4 deep sleep periods per day\n",
    "# and 4 storage periods per day.\n",
    "# Let's begin with calculating the time each component is active in one cycle.\n",
    "active_mode_time = 80 # 80 seconds, ESP32 (only) active mode\n",
    "modem_mode_burst_time = 5 # 5 seconds, ESP32 (only) transmit mode, when the modem turns on\n",
    "modem_mode_time = 25 # 25 seconds, ESP32 (only) transmit mode, when the modem is transmitting\n",
    "storage_mode_burst_time = 1 # 3 seconds, ESP32 (only) storage mode, when the SD Card module turns on\n",
    "storage_mode_time = 3 # 3 seconds, ESP32 (only) storage mode, when the SD Card module is writing\n",
    "ph_sensor_time = 5 # 5 seconds, pH sensor active time, sensor is active for ~4-5 seconds per measurement\n",
    "tds_sensor_time = 5 # 5 seconds, TDS sensor active time, sensor is active for ~4-5 seconds per measurement\n",
    "temp_sensor_time = 5 # 5 seconds, temperature sensor active time, sensor is active for ~4-5 seconds per measurement\n",
    "rtc_active_time = 1 # 4 seconds, RTC active time, RTC is active for ~1 second per system run\n",
    "adc1_active_time = 80 # 80 seconds, ADC1 active time\n",
    "adc2_active_time = 80 # 80 seconds, ADC2 active time\n",
    "\n",
    "# These are the deep sleep costs, which are not included in \"active time\". This is one cycle, lasting 6 hours.\n",
    "# We are doing 4 deep sleep cycles per day.\n",
    "deep_sleep_time = 360 * 60 # 21600 seconds, deep sleep time\n",
    "modem_sleep_time = 360 * 60 # 21600 seconds, modem sleep time\n",
    "rtc_standby_time = 360 * 60 # 21600 seconds, RTC standby time\n",
    "adc1_standby_time = 360 * 60 # 21600 seconds, ADC1 standby time\n",
    "adc2_standby_time = 360 * 60 # 21600 seconds, ADC2 standby time\n",
    "\n",
    "# Let's print the variables\n",
    "print('These components are active for \"x\" seconds per 1 device cycle @ \"y\" mA.\\n',\n",
    "        '\\n',\n",
    "        \n",
    "        f'Active mode time: {active_mode_time} seconds @ {active_mode} mA\\n',\n",
    "        f'Transmit mode burst time: {modem_mode_burst_time} seconds @ {modem_mode_burst} mA\\n',\n",
    "        f'Transmit mode time: {modem_mode_time} seconds @ {modem_mode} mA\\n',\n",
    "        f'Storage mode burst time: {storage_mode_burst_time} seconds @ {storage_mode_burst} mA\\n',\n",
    "        f'Storage mode time: {storage_mode_time} seconds @ {storage_mode} mA\\n',\n",
    "        f'pH sensor time: {ph_sensor_time} seconds @ {ph_sensor} mA\\n',\n",
    "        f'TDS sensor time: {tds_sensor_time} seconds @ {tds_sensor} mA\\n',\n",
    "        f'Temperature sensor time: {temp_sensor_time} seconds @ {temp_sensor} mA\\n',\n",
    "        f'RTC active time: {rtc_active_time} seconds @ {rtc_active} mA\\n',\n",
    "        f'ADC1 active time: {adc1_active_time} seconds @ {adc1_active} mA\\n',\n",
    "        f'ADC2 active time: {adc2_active_time} seconds @ {adc2_active} mA\\n',\n",
    "        f'\\nThe power draw for \"x\" seconds per 1 deep sleep cycle @ \"y\" mA.\\n',\n",
    "        f'Deep sleep time: {deep_sleep_time} seconds ({deep_sleep_time/3600:.2f} hours) @ {deep_sleep} mA\\n',\n",
    "        f'Modem sleep time (software power off): {modem_sleep_time} seconds ({modem_sleep_time/3600:.2f} hours) @ {modem_sleep} mA\\n',\n",
    "        f'RTC standby time: {rtc_standby_time} seconds ({rtc_standby_time/3600:.2f} hours) @ {rtc_standby} mA\\n',\n",
    "        f'ADC1 standby time: {adc1_standby_time} seconds ({adc1_standby_time/3600:.2f} hours) @ {adc1_active} mA\\n',\n",
    "        f'ADC2 standby time: {adc2_standby_time} seconds ({adc2_standby_time/3600:.2f}) @ {adc2_active} mA\\n')\n",
    "\n",
    "# define time conversions\n",
    "seconds_per_minute = 60\n",
    "minutes_per_hour = 60\n",
    "hours_per_day = 24\n",
    "\n",
    "# set the battery capacity in mAh\n",
    "battery_capacity = 2600\n",
    "\n",
    "# set the battery voltage in V\n",
    "battery_voltage = 3.7\n",
    "\n",
    "# set the battery energy in Wh\n",
    "# we will convert mWh to Wh, so we divide by 1000\n",
    "battery_energy = battery_capacity * battery_voltage / 1000 # ~9.62 Wh, 3.7 V * 2600 mAh, 1 Wh = 1000 mWh\n",
    "\n",
    "# set the battery safety margin\n",
    "battery_safety_margin = 0.2 # 20% safety margin\n",
    "\n",
    "# create arrays for active and sleep power consumption\n",
    "\n",
    "power_array_active = np.array([\n",
    "    active_mode,\n",
    "    modem_mode_burst,\n",
    "    modem_mode,\n",
    "    storage_mode_burst,\n",
    "    storage_mode,\n",
    "    ph_sensor,\n",
    "    tds_sensor,\n",
    "    temp_sensor,\n",
    "    rtc_active,\n",
    "    adc1_active,\n",
    "    adc2_active\n",
    "])\n",
    "\n",
    "power_array_sleep = np.array([\n",
    "    deep_sleep,\n",
    "    modem_sleep,\n",
    "    rtc_standby,\n",
    "    adc1_active,\n",
    "    adc2_active\n",
    "])\n",
    "\n",
    "def arrayprinter(arr,prec):\n",
    "    np.set_printoptions(suppress=True,precision=prec)\n",
    "    print(arr)\n"
   ]
  },
  {
   "cell_type": "code",
   "execution_count": 19,
   "metadata": {},
   "outputs": [
    {
     "name": "stdout",
     "output_type": "stream",
     "text": [
      "Let's verify the arrays first. First, the active draw. Then, the sleep draw.\n",
      "\n",
      "[100.   700.   250.   200.   100.     4.     4.     1.5    0.2    0.15\n",
      "   0.15]\n",
      "[0.015 1.    0.11  0.15  0.15 ]\n"
     ]
    }
   ],
   "source": [
    "print(\"Let's verify the arrays first. First, the active draw. Then, the sleep draw.\\n\")\n",
    "arrayprinter(power_array_active, 3)\n",
    "arrayprinter(power_array_sleep, 3)"
   ]
  },
  {
   "cell_type": "code",
   "execution_count": 20,
   "metadata": {},
   "outputs": [
    {
     "name": "stdout",
     "output_type": "stream",
     "text": [
      "\n",
      "Now, let's calculate the total draw.\n",
      " The total active draw during one cyle is 5.09 mAh.\n",
      " The total sleep draw is 8.55 mAh.\n",
      " The total draw in a 6.02222 hour (one full active and deep sleep) cycle is 13.64 mAh.\n",
      "\n"
     ]
    }
   ],
   "source": [
    "# We need to create some time calculations to determine the power consumption over time in hours\n",
    "\n",
    "power_array_active_time = np.array([\n",
    "    power_array_active[0] * active_mode_time / (seconds_per_minute * minutes_per_hour),\n",
    "    power_array_active[1] * modem_mode_burst_time / (seconds_per_minute * minutes_per_hour),\n",
    "    power_array_active[2] * modem_mode_time / (seconds_per_minute * minutes_per_hour),\n",
    "    power_array_active[3] * storage_mode_burst_time / (seconds_per_minute * minutes_per_hour),\n",
    "    power_array_active[4] * storage_mode_time / (seconds_per_minute * minutes_per_hour),\n",
    "    power_array_active[5] * ph_sensor_time / (seconds_per_minute * minutes_per_hour),\n",
    "    power_array_active[6] * tds_sensor_time / (seconds_per_minute * minutes_per_hour),\n",
    "    power_array_active[7] * temp_sensor_time / (seconds_per_minute * minutes_per_hour),\n",
    "    power_array_active[8] * rtc_active_time / (seconds_per_minute * minutes_per_hour),\n",
    "    power_array_active[9] * adc1_active_time / (seconds_per_minute * minutes_per_hour),\n",
    "    power_array_active[10] * adc2_active_time / (seconds_per_minute * minutes_per_hour)\n",
    "])\n",
    "\n",
    "power_array_sleep_time = np.array([\n",
    "    power_array_sleep[0] * deep_sleep_time / (seconds_per_minute * minutes_per_hour),\n",
    "    power_array_sleep[1] * modem_sleep_time / (seconds_per_minute * minutes_per_hour),\n",
    "    power_array_sleep[2] * rtc_standby_time / (seconds_per_minute * minutes_per_hour),\n",
    "    power_array_sleep[3] * adc1_standby_time / (seconds_per_minute * minutes_per_hour),\n",
    "    power_array_sleep[4] * adc2_standby_time / (seconds_per_minute * minutes_per_hour)\n",
    "])\n",
    "\n",
    "power_total_active = np.sum(power_array_active_time)\n",
    "power_total_sleep = np.sum(power_array_sleep_time)\n",
    "print(\"\\nNow, let's calculate the total draw.\\n\",\n",
    "    f'The total active draw during one cyle is {power_total_active:.2f} mAh.\\n',\n",
    "    f'The total sleep draw is {power_total_sleep:.2f} mAh.\\n',\n",
    "    f'The total draw in a 6.02222 hour (one full active and deep sleep) cycle is {(power_total_active + power_total_sleep):.2f} mAh.\\n')"
   ]
  },
  {
   "cell_type": "code",
   "execution_count": 21,
   "metadata": {},
   "outputs": [
    {
     "name": "stdout",
     "output_type": "stream",
     "text": [
      "Let's verify the arrays first. First, the active draw over time. Then, the sleep draw over time.\n",
      "\n",
      "[2.222 0.972 1.736 0.056 0.083 0.006 0.006 0.002 0.    0.003 0.003]\n",
      "[0.09 6.   0.66 0.9  0.9 ]\n",
      "\n",
      "Now, let's calculate the total draw over time.\n",
      "The total active draw over time for one run is 5.09 mAh.\n",
      "The total sleep draw over time for one cycle is 8.55 mAh.\n",
      "The average consumption is 2.26 mA.\n",
      "\n",
      "The estimated \"best case\" battery life (accounting for 100% charge available, 20% safety margin) is,\n",
      "918.39 hours, or 38.27 days.\n",
      "The estimated \"likely case\" battery life (accounting for 75% charge available, 20% safety margin) is,\n",
      "688.79 hours, or 28.70 days.\n",
      "\n"
     ]
    },
    {
     "data": {
      "image/png": "[encoded data removed]",
      "text/plain": [
       "<Figure size 1000x600 with 1 Axes>"
      ]
     },
     "metadata": {},
     "output_type": "display_data"
    }
   ],
   "source": [
    "print(\"Let's verify the arrays first. First, the active draw over time. Then, the sleep draw over time.\\n\")\n",
    "arrayprinter(power_array_active_time, 3)\n",
    "arrayprinter(power_array_sleep_time, 3)\n",
    "power_total_active_time = np.sum(power_array_active_time)\n",
    "power_total_sleep_time = np.sum(power_array_sleep_time)\n",
    "print(\"\\nNow, let's calculate the total draw over time.\")\n",
    "print(f'The total active draw over time for one run is {power_total_active_time:.2f} mAh.')\n",
    "print(f'The total sleep draw over time for one cycle is {power_total_sleep_time:.2f} mAh.')\n",
    "average_power = (power_total_active_time + power_total_sleep_time) / (active_mode_time/(seconds_per_minute*minutes_per_hour) + deep_sleep_time/(seconds_per_minute*minutes_per_hour))\n",
    "print(f'The average consumption is {(average_power):.2f} mA.\\n')\n",
    "\n",
    "# Let's compute the power budget over time in hours\n",
    "# Formula: Estimated battery life = (Battery capacity in mAh) / (Total power consumption in mAh) * (1 - Safety margin)\n",
    "\n",
    "best_case_battery_life = battery_capacity / (average_power) * (1.0 - battery_safety_margin)\n",
    "likely_case_battery_life = (battery_capacity * 0.75) / (average_power) * (1.0 - battery_safety_margin)\n",
    "print(f'The estimated \"best case\" battery life (accounting for 100% charge available, 20% safety margin) is,\\n'\n",
    "      f'{best_case_battery_life:.2f} hours, or {best_case_battery_life/24:.2f} days.')\n",
    "# 6 hours of sleep, plus 0.0222 hours of active time (80 sec) per cycle\n",
    "print(f'The estimated \"likely case\" battery life (accounting for 75% charge available, 20% safety margin) is,\\n'\n",
    "      f'{likely_case_battery_life:.2f} hours, or {likely_case_battery_life/24:.2f} days.\\n')\n",
    "\n",
    "# Let's plot the consumption over time\n",
    "plt.figure(figsize=(10, 6))\n",
    "\n",
    "x = np.linspace(0.5, 15, 100)# 100 cycles\n",
    "z = ((battery_capacity)/(x) * (1.0 - battery_safety_margin))/24 * np.ones(100) # Best case battery life in days\n",
    "y = ((battery_capacity*0.75)/(x) * (1.0 - battery_safety_margin))/24 * np.ones(100) # Likely case battery life in days\n",
    "plt.plot(x, y, label='Likely Battery Life in Days, Referenced with Average Current consumed in 1 Hour', color='blue')\n",
    "plt.plot(x, z, label='Best Battery Life in Days, Referenced with Average Current consumed in 1 Hour',color='red')\n",
    "plt.plot(average_power, best_case_battery_life/24, 'ro', label='Best Case Battery Life in Days')\n",
    "plt.plot(average_power, likely_case_battery_life/24, 'go', label='Likely Case Battery Life in Days')\n",
    "plt.xlabel('Average Draw in mA')\n",
    "plt.ylabel('Battery Life (Days)')\n",
    "plt.title('Battery Life Over Average Consumption')\n",
    "plt.legend()\n",
    "plt.grid()\n",
    "save_fig('battery_life_plot', tight_layout=True, fig_extension='png', resolution=300)\n",
    "plt.show()"
   ]
  },
  {
   "cell_type": "markdown",
   "metadata": {},
   "source": [
    "# Test1 Results\n",
    "\n",
    "**_Post Test1 Analysis_**"
   ]
  },
  {
   "cell_type": "code",
   "execution_count": 22,
   "metadata": {},
   "outputs": [
    {
     "name": "stdout",
     "output_type": "stream",
     "text": [
      "             TDS       Temp  bootCounter  cycleTime         pH     rawTDS  \\\n",
      "count  20.000000  20.000000    20.000000  20.000000  20.000000  20.000000   \n",
      "mean   14.014090  22.384375     4.650000  77.550000   5.313262  18.747054   \n",
      "std     3.060237   0.481152     2.888726   1.050063   0.079576   2.887333   \n",
      "min    11.843110  21.500000     1.000000  76.000000   5.196127  16.698740   \n",
      "25%    12.598873  22.078125     2.000000  77.000000   5.235812  17.411798   \n",
      "50%    13.022315  22.406250     4.500000  77.000000   5.307772  17.811315   \n",
      "75%    14.145647  22.687500     7.000000  78.000000   5.371115  18.871180   \n",
      "max    25.507380  23.312500    10.000000  80.000000   5.478631  29.590970   \n",
      "\n",
      "       voltagePh  voltageTDS  \n",
      "count  20.000000   20.000000  \n",
      "mean    1.809872    0.042078  \n",
      "std     0.012084    0.006517  \n",
      "min     1.783500    0.036889  \n",
      "25%     1.801125    0.039234  \n",
      "50%     1.809375    0.040015  \n",
      "75%     1.822500    0.042047  \n",
      "max     1.824750    0.066275  \n"
     ]
    }
   ],
   "source": [
    "import numpy as np\n",
    "import matplotlib.pyplot as plt\n",
    "import pandas as pd\n",
    "import seaborn as sns\n",
    "\n",
    "df_cloud_measurements = pd.read_csv('data.csv', sep=';', header=0)\n",
    "#print(df_cloud_measurements.head())\n",
    "print(df_cloud_measurements.describe())\n"
   ]
  },
  {
   "cell_type": "code",
   "execution_count": 23,
   "metadata": {},
   "outputs": [
    {
     "name": "stdout",
     "output_type": "stream",
     "text": [
      "The number of cloud measurements is 20.\n",
      "\n"
     ]
    }
   ],
   "source": [
    "# Compute the number of cloud measurements\n",
    "cloud_count = len(df_cloud_measurements)\n",
    "print(f'The number of cloud measurements is {cloud_count}.\\n')\n",
    "\n"
   ]
  },
  {
   "cell_type": "code",
   "execution_count": 24,
   "metadata": {},
   "outputs": [
    {
     "name": "stdout",
     "output_type": "stream",
     "text": [
      "        finalTemp    finalTDS      rawTDS  voltageTDS     finalpH  voltagePh\n",
      "count  900.000000  900.000000  900.000000  900.000000  900.000000  900.00000\n",
      "mean    22.134589   13.234256   18.011511    0.040500    5.287767    1.81640\n",
      "std      0.320997    1.924274    1.815456    0.004122    0.230298    0.03998\n",
      "min     21.500000   11.840000   16.700000    0.040000   -1.490000    1.78000\n",
      "25%     21.880000   12.590000   17.400000    0.040000    5.260000    1.81000\n",
      "50%     22.090000   12.930000   17.720000    0.040000    5.280000    1.82000\n",
      "75%     22.380000   13.420000   18.190000    0.040000    5.330000    1.82000\n",
      "max     23.310000   53.420000   55.920000    0.130000    5.480000    3.00000\n"
     ]
    }
   ],
   "source": [
    "df_sd_measurements = pd.read_csv('sd_data.csv', sep=';', header=0)\n",
    "#print(df_sd_measurements.head())\n",
    "print(df_sd_measurements.describe())"
   ]
  },
  {
   "cell_type": "code",
   "execution_count": 25,
   "metadata": {},
   "outputs": [
    {
     "name": "stdout",
     "output_type": "stream",
     "text": [
      "The number of offline measurements is 880.\n",
      "\n"
     ]
    }
   ],
   "source": [
    "# Compute the number of SD measurements\n",
    "offline_count = len(df_sd_measurements) - cloud_count\n",
    "print(f'The number of offline measurements is {offline_count}.\\n')"
   ]
  },
  {
   "cell_type": "code",
   "execution_count": 26,
   "metadata": {},
   "outputs": [
    {
     "name": "stdout",
     "output_type": "stream",
     "text": [
      "The percentage of cloud measurements is 2.22 %.\n",
      "\n",
      "The percentage of offline measurements is 97.78 %.\n",
      "\n"
     ]
    }
   ],
   "source": [
    "# Compute the percentage of cloud measurements\n",
    "cloud_percentage = (cloud_count / (cloud_count + offline_count)) * 100\n",
    "print(f'The percentage of cloud measurements is {cloud_percentage:.2f} %.\\n')\n",
    "\n",
    "# Compute the percentage of offline measurements\n",
    "offline_percentage = (offline_count / (cloud_count + offline_count)) * 100\n",
    "print(f'The percentage of offline measurements is {offline_percentage:.2f} %.\\n')"
   ]
  },
  {
   "cell_type": "code",
   "execution_count": 27,
   "metadata": {},
   "outputs": [
    {
     "name": "stdout",
     "output_type": "stream",
     "text": [
      "       cycleSeconds  cycleMinutes  cycleHours  measurementCycle\n",
      "count    899.000000     899.00000  899.000000        899.000000\n",
      "mean     527.125695       8.78396    0.146434         50.592881\n",
      "std     3165.029373      52.75071    0.879174          4.114318\n",
      "min       49.000000       0.82000    0.013600         49.000000\n",
      "25%       50.000000       0.83000    0.013900         50.000000\n",
      "50%       50.000000       0.83000    0.013900         50.000000\n",
      "75%       50.000000       0.83000    0.013900         50.000000\n",
      "max    21574.000000     359.57000    5.992800         80.000000\n"
     ]
    }
   ],
   "source": [
    "df_time = pd.read_csv('sd_time.csv', sep=';', header=0)\n",
    "#print(df_time.head())\n",
    "print(df_time.describe())"
   ]
  },
  {
   "cell_type": "code",
   "execution_count": 28,
   "metadata": {},
   "outputs": [
    {
     "name": "stdout",
     "output_type": "stream",
     "text": [
      "The number of time measurements is 899.\n",
      "\n",
      "The time measurement dataframe computes the time difference between two measurements.\n",
      "\n"
     ]
    }
   ],
   "source": [
    "time_count = len(df_time)\n",
    "print(f'The number of time measurements is {time_count}.\\n')\n",
    "print(f'The time measurement dataframe computes the time difference between two measurements.\\n')"
   ]
  },
  {
   "cell_type": "code",
   "execution_count": 29,
   "metadata": {},
   "outputs": [
    {
     "name": "stdout",
     "output_type": "stream",
     "text": [
      "count       20.00000\n",
      "mean     21420.15000\n",
      "std        106.34664\n",
      "min      21153.00000\n",
      "25%      21447.00000\n",
      "50%      21459.50000\n",
      "75%      21476.25000\n",
      "max      21497.00000\n",
      "Name: deepSleepCycle, dtype: float64\n",
      "The mean sleep time is 21420.15 seconds.\n",
      "\n",
      "The mean sleep time is 357.00 minutes.\n",
      "\n",
      "The mean sleep time is 5.95 hours.\n",
      "\n",
      "The total sleep time is 428403.00 seconds.\n",
      "\n",
      "The total sleep time is 7140.05 minutes.\n",
      "\n",
      "The total sleep time is 119.00 hours.\n",
      "\n",
      "The total sleep time is 4.96 days.\n",
      "\n"
     ]
    }
   ],
   "source": [
    "# drop all rows where the measurementCycle is less than 70 (deep sleep only happens \n",
    "# when measurements are uploaded)\n",
    "df_time_filtered_sleep = df_time.drop(df_time[df_time[\"measurementCycle\"] < 70].index)\n",
    "\n",
    "df_time_filtered_sleep[\"deepSleepCycle\"] = df_time_filtered_sleep[\"cycleSeconds\"] - df_time_filtered_sleep[\"measurementCycle\"]\n",
    "\n",
    "\n",
    "print(df_time_filtered_sleep[\"deepSleepCycle\"].describe())\n",
    "print(f'The mean sleep time is {df_time_filtered_sleep[\"deepSleepCycle\"].mean():.2f} seconds.\\n')\n",
    "print(f'The mean sleep time is {df_time_filtered_sleep[\"deepSleepCycle\"].mean()/60:.2f} minutes.\\n')\n",
    "print(f'The mean sleep time is {df_time_filtered_sleep[\"deepSleepCycle\"].mean()/3600:.2f} hours.\\n')\n",
    "print(f'The total sleep time is {df_time_filtered_sleep[\"deepSleepCycle\"].sum():.2f} seconds.\\n')\n",
    "print(f'The total sleep time is {df_time_filtered_sleep[\"deepSleepCycle\"].sum()/60:.2f} minutes.\\n')\n",
    "print(f'The total sleep time is {df_time_filtered_sleep[\"deepSleepCycle\"].sum()/3600:.2f} hours.\\n')\n",
    "print(f'The total sleep time is {df_time_filtered_sleep[\"deepSleepCycle\"].sum()/3600/24:.2f} days.\\n')"
   ]
  },
  {
   "cell_type": "code",
   "execution_count": 30,
   "metadata": {},
   "outputs": [
    {
     "name": "stdout",
     "output_type": "stream",
     "text": [
      "The total measurement time is 45483 seconds.\n",
      "\n",
      "The total measurement time is 758.05 minutes.\n",
      "\n",
      "The total measurement time is 12.63 hours.\n",
      "\n",
      "The total measurement time is 0.53 days.\n",
      "\n"
     ]
    }
   ],
   "source": [
    "# We need to compute the total measurement time\n",
    "measurement_time = df_time[\"measurementCycle\"].sum()\n",
    "print(f'The total measurement time is {measurement_time} seconds.\\n')\n",
    "print(f'The total measurement time is {measurement_time/60:.2f} minutes.\\n')\n",
    "print(f'The total measurement time is {measurement_time/3600:.2f} hours.\\n')\n",
    "print(f'The total measurement time is {measurement_time/3600/24:.2f} days.\\n')"
   ]
  },
  {
   "cell_type": "code",
   "execution_count": 31,
   "metadata": {},
   "outputs": [
    {
     "name": "stdout",
     "output_type": "stream",
     "text": [
      "The total measurement time for cloud measurements is 1551 seconds.\n",
      "\n",
      "The total measurement time for cloud measurements is 25.85 minutes.\n",
      "\n",
      "The total measurement time for cloud measurements is 0.43 hours.\n",
      "\n",
      "The total measurement time for cloud measurements is 0.02 days.\n",
      "\n",
      "--------------------------------------------------\n",
      "\n",
      "The total measurement time for offline measurements is 43932 seconds.\n",
      "\n",
      "The total measurement time for offline measurements is 732.20 minutes.\n",
      "\n",
      "The total measurement time for offline measurements is 12.20 hours.\n",
      "\n",
      "The total measurement time for offline measurements is 0.51 days.\n",
      "\n"
     ]
    }
   ],
   "source": [
    "# We need to compute the total measurement time divided between uploaded measurements and offline measurements\n",
    "measurement_time_cloud = df_cloud_measurements[\"cycleTime\"].sum()\n",
    "print(f'The total measurement time for cloud measurements is {measurement_time_cloud} seconds.\\n')\n",
    "print(f'The total measurement time for cloud measurements is {measurement_time_cloud/60:.2f} minutes.\\n')\n",
    "print(f'The total measurement time for cloud measurements is {measurement_time_cloud/3600:.2f} hours.\\n')\n",
    "print(f'The total measurement time for cloud measurements is {measurement_time_cloud/3600/24:.2f} days.\\n')\n",
    "\n",
    "# Print separator\n",
    "print(\"--------------------------------------------------\\n\")\n",
    "# We need to compute the total measurement time for offline measurements\n",
    "\n",
    "df_measurement_time_offline = df_time.drop(df_time[df_time[\"measurementCycle\"] > 70].index)\n",
    "measurement_time_offline = df_measurement_time_offline[\"measurementCycle\"].sum()\n",
    "print(f'The total measurement time for offline measurements is {measurement_time_offline} seconds.\\n')\n",
    "print(f'The total measurement time for offline measurements is {measurement_time_offline/60:.2f} minutes.\\n')\n",
    "print(f'The total measurement time for offline measurements is {measurement_time_offline/3600:.2f} hours.\\n')\n",
    "print(f'The total measurement time for offline measurements is {measurement_time_offline/3600/24:.2f} days.\\n')"
   ]
  },
  {
   "cell_type": "code",
   "execution_count": 32,
   "metadata": {},
   "outputs": [
    {
     "name": "stdout",
     "output_type": "stream",
     "text": [
      "The total runtime is 131.64439999999996 hours.\n",
      "\n",
      "The total runtime is 5.49 days.\n",
      "\n"
     ]
    }
   ],
   "source": [
    "# Compute the total runtime (active + sleep)\n",
    "total_runtime = df_time[\"cycleHours\"].sum()\n",
    "print(f'The total runtime is {total_runtime} hours.\\n')\n",
    "print(f'The total runtime is {total_runtime/24:.2f} days.\\n')"
   ]
  }
 ],
 "metadata": {
  "kernelspec": {
   "display_name": ".venv",
   "language": "python",
   "name": "python3"
  },
  "language_info": {
   "codemirror_mode": {
    "name": "ipython",
    "version": 3
   },
   "file_extension": ".py",
   "mimetype": "text/x-python",
   "name": "python",
   "nbconvert_exporter": "python",
   "pygments_lexer": "ipython3",
   "version": "3.13.1"
  }
 },
 "nbformat": 4,
 "nbformat_minor": 2
}
